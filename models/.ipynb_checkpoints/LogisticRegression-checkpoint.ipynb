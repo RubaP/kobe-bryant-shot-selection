{
 "cells": [
  {
   "cell_type": "code",
   "execution_count": 1,
   "metadata": {},
   "outputs": [
    {
     "name": "stderr",
     "output_type": "stream",
     "text": [
      "C:\\Users\\user\\Anaconda3\\lib\\site-packages\\sklearn\\cross_validation.py:41: DeprecationWarning: This module was deprecated in version 0.18 in favor of the model_selection module into which all the refactored classes and functions are moved. Also note that the interface of the new CV iterators are different from that of this module. This module will be removed in 0.20.\n",
      "  \"This module will be removed in 0.20.\", DeprecationWarning)\n"
     ]
    }
   ],
   "source": [
    "import numpy as np\n",
    "import pandas as pd\n",
    "from sklearn.linear_model import LogisticRegression\n",
    "from sklearn import metrics, cross_validation\n",
    "import warnings\n",
    "warnings.filterwarnings('ignore', category=DeprecationWarning)"
   ]
  },
  {
   "cell_type": "code",
   "execution_count": 294,
   "metadata": {
    "collapsed": true
   },
   "outputs": [],
   "source": [
    "### Reading data\n",
    "\n",
    "data = pd.read_csv('../data/data.csv')\n",
    "data.set_index('shot_id', inplace=True)\n",
    "# The following should be explicitly made categorical as they are encoded using integers\n",
    "data[\"action_type\"] = data[\"action_type\"].astype('object')\n",
    "data[\"game_event_id\"] = data[\"game_event_id\"].astype('category')\n",
    "data[\"game_id\"] = data[\"game_id\"].astype('category')\n",
    "data[\"period\"] = data[\"period\"].astype('object')\n",
    "data[\"playoffs\"] = data[\"playoffs\"].astype('category')\n",
    "data[\"shot_made_flag\"] = data[\"shot_made_flag\"].astype('category')\n",
    "data[\"shot_type\"] = data[\"shot_type\"].astype('category')\n",
    "data[\"team_id\"] = data[\"team_id\"].astype('category')"
   ]
  },
  {
   "cell_type": "code",
   "execution_count": 380,
   "metadata": {},
   "outputs": [],
   "source": [
    "# data cleaning\n",
    "##\n",
    "unknown_mask = data['shot_made_flag'].isnull()\n",
    "data_cl = data.copy()\n",
    "target = data_cl['shot_made_flag'].copy()\n",
    "data_cl.drop('team_id', inplace=True, axis=1)  # only 1 category\n",
    "data_cl.drop('lat', inplace=True, axis=1)  # correlated with loc_x\n",
    "data_cl.drop('lon', inplace=True, axis=1)  # correlated with loc_y\n",
    "data_cl.drop('game_id', inplace=True, axis=1)  # should not be dependent on game id\n",
    "data_cl.drop('game_event_id', inplace=True, axis=1)  # independent, unique for every shots in a game\n",
    "data_cl.drop('team_name', inplace=True, axis=1)  # always LA Lakers\n",
    "data_cl.drop('shot_made_flag', inplace=True, axis=1)  # target variables\n",
    "data_cl.drop('season', axis=1, inplace=True) # obtained a very good accuracy when season is dropped\n",
    "data_cl.drop('shot_zone_range', axis=1, inplace=True) # obtained accuracy improvement after dropping season\n",
    "data_cl.drop('combined_shot_type', axis=1, inplace=True) # obtained accuracy improvement after dropping game_month \n",
    "data_cl.drop('shot_type', axis=1, inplace=True) # obtained accuracy improvement after dropping combined_shot_type"
   ]
  },
  {
   "cell_type": "code",
   "execution_count": 381,
   "metadata": {
    "collapsed": true
   },
   "outputs": [],
   "source": [
    "# Game date -- extract year and month\n",
    "data_cl['game_date'] = pd.to_datetime(data_cl['game_date'])\n",
    "data_cl['game_year'] = data_cl['game_date'].dt.year\n",
    "data_cl.drop('game_date', axis=1, inplace=True)"
   ]
  },
  {
   "cell_type": "code",
   "execution_count": 382,
   "metadata": {
    "collapsed": true
   },
   "outputs": [],
   "source": [
    "#Extract time related features\n",
    "data_cl['time_remaining'] = 60 * data_cl['minutes_remaining'] + data_cl['seconds_remaining']\n",
    "data_cl['last_3_sec'] = data_cl['time_remaining'] < 3\n",
    "data_cl['last_5_sec'] = data_cl['time_remaining'] < 5\n",
    "data_cl['last_10_sec'] = data_cl['time_remaining'] < 10\n",
    "\n",
    "# drop redundant features\n",
    "data_cl.drop('minutes_remaining', axis=1, inplace=True)\n",
    "data_cl.drop('seconds_remaining', axis=1, inplace=True)\n",
    "data_cl.drop('time_remaining', axis=1, inplace=True)"
   ]
  },
  {
   "cell_type": "code",
   "execution_count": 383,
   "metadata": {
    "collapsed": true
   },
   "outputs": [],
   "source": [
    "from sklearn import mixture\n",
    "gaussianMixtureModel1 = mixture.GMM(n_components= 16, covariance_type='full', params='wmc', init_params='wmc',\n",
    "                                    random_state=1, n_init=3,  verbose=0)\n",
    "gaussianMixtureModel1.fit(data_cl.ix[:,['loc_x','loc_y']])\n",
    "data_cl['shotLocationCluster'] = gaussianMixtureModel1.predict(data_cl.ix[:,['loc_x','loc_y']])\n",
    "\n",
    "data_cl.drop('loc_x', axis=1, inplace=True)\n",
    "data_cl.drop('loc_y', axis=1, inplace=True)"
   ]
  },
  {
   "cell_type": "code",
   "execution_count": 384,
   "metadata": {
    "collapsed": true
   },
   "outputs": [],
   "source": [
    "shotLocationCluster = data_cl['shotLocationCluster']"
   ]
  },
  {
   "cell_type": "code",
   "execution_count": 385,
   "metadata": {
    "collapsed": true
   },
   "outputs": [],
   "source": [
    "## Matchup -- (away/home)\n",
    "data_cl['home_play'] = data_cl['matchup'].str.contains('vs').astype('int')\n",
    "data_cl.drop('matchup', axis=1, inplace=True)"
   ]
  },
  {
   "cell_type": "code",
   "execution_count": 386,
   "metadata": {
    "collapsed": true
   },
   "outputs": [],
   "source": [
    "data_cl['first_period'] = data_cl['period'] == 1\n",
    "data_cl['second_period'] = data_cl['period'] == 2\n",
    "data_cl['third_period'] = data_cl['period'] == 3\n",
    "data_cl['fourth_period'] = data_cl['period'] == 4\n",
    "data_cl['final_period'] = data_cl['period'] > 4\n",
    "data_cl.drop('period', axis=1, inplace=True)"
   ]
  },
  {
   "cell_type": "code",
   "execution_count": 387,
   "metadata": {
    "collapsed": true
   },
   "outputs": [],
   "source": [
    "# Replace 20 least common action types with value 'Other'\n",
    "rare_action_types = data_cl['action_type'].value_counts().sort_values().index.values[:20]\n",
    "data_cl.loc[data_cl['action_type'].isin(rare_action_types), 'action_type'] = 'Other'"
   ]
  },
  {
   "cell_type": "code",
   "execution_count": 388,
   "metadata": {
    "collapsed": true
   },
   "outputs": [],
   "source": [
    "# Replace  least common action types with value 'rare'\n",
    "rare_opponent = data_cl['opponent'].value_counts().sort_values().index.values[:30]\n",
    "data_cl.loc[data_cl['opponent'].isin(rare_opponent), 'opponent'] = 'rare'"
   ]
  },
  {
   "cell_type": "code",
   "execution_count": 389,
   "metadata": {},
   "outputs": [
    {
     "data": {
      "text/plain": [
       "Index(['action_type', 'playoffs', 'shot_distance', 'shot_zone_area',\n",
       "       'shot_zone_basic', 'opponent', 'game_year', 'last_3_sec', 'last_5_sec',\n",
       "       'last_10_sec', 'shotLocationCluster', 'home_play', 'first_period',\n",
       "       'second_period', 'third_period', 'fourth_period', 'final_period'],\n",
       "      dtype='object')"
      ]
     },
     "execution_count": 389,
     "metadata": {},
     "output_type": "execute_result"
    }
   ],
   "source": [
    "data_cl.columns"
   ]
  },
  {
   "cell_type": "code",
   "execution_count": 391,
   "metadata": {},
   "outputs": [],
   "source": [
    "correlation = data_cl.corr()"
   ]
  },
  {
   "cell_type": "code",
   "execution_count": 395,
   "metadata": {},
   "outputs": [],
   "source": [
    "correlation.to_csv(\"../data/correlation_68.csv\")"
   ]
  },
  {
   "cell_type": "code",
   "execution_count": 396,
   "metadata": {},
   "outputs": [
    {
     "data": {
      "text/html": [
       "<div>\n",
       "<style scoped>\n",
       "    .dataframe tbody tr th:only-of-type {\n",
       "        vertical-align: middle;\n",
       "    }\n",
       "\n",
       "    .dataframe tbody tr th {\n",
       "        vertical-align: top;\n",
       "    }\n",
       "\n",
       "    .dataframe thead th {\n",
       "        text-align: right;\n",
       "    }\n",
       "</style>\n",
       "<table border=\"1\" class=\"dataframe\">\n",
       "  <thead>\n",
       "    <tr style=\"text-align: right;\">\n",
       "      <th></th>\n",
       "      <th>shot_distance</th>\n",
       "      <th>game_year</th>\n",
       "      <th>shotLocationCluster</th>\n",
       "      <th>home_play</th>\n",
       "    </tr>\n",
       "  </thead>\n",
       "  <tbody>\n",
       "    <tr>\n",
       "      <th>count</th>\n",
       "      <td>30697.000000</td>\n",
       "      <td>30697.000000</td>\n",
       "      <td>30697.000000</td>\n",
       "      <td>30697.000000</td>\n",
       "    </tr>\n",
       "    <tr>\n",
       "      <th>mean</th>\n",
       "      <td>13.437437</td>\n",
       "      <td>2006.098446</td>\n",
       "      <td>6.776688</td>\n",
       "      <td>0.487214</td>\n",
       "    </tr>\n",
       "    <tr>\n",
       "      <th>std</th>\n",
       "      <td>9.374189</td>\n",
       "      <td>4.835462</td>\n",
       "      <td>4.442815</td>\n",
       "      <td>0.499845</td>\n",
       "    </tr>\n",
       "    <tr>\n",
       "      <th>min</th>\n",
       "      <td>0.000000</td>\n",
       "      <td>1996.000000</td>\n",
       "      <td>0.000000</td>\n",
       "      <td>0.000000</td>\n",
       "    </tr>\n",
       "    <tr>\n",
       "      <th>25%</th>\n",
       "      <td>5.000000</td>\n",
       "      <td>2002.000000</td>\n",
       "      <td>3.000000</td>\n",
       "      <td>0.000000</td>\n",
       "    </tr>\n",
       "    <tr>\n",
       "      <th>50%</th>\n",
       "      <td>15.000000</td>\n",
       "      <td>2006.000000</td>\n",
       "      <td>6.000000</td>\n",
       "      <td>0.000000</td>\n",
       "    </tr>\n",
       "    <tr>\n",
       "      <th>75%</th>\n",
       "      <td>21.000000</td>\n",
       "      <td>2010.000000</td>\n",
       "      <td>10.000000</td>\n",
       "      <td>1.000000</td>\n",
       "    </tr>\n",
       "    <tr>\n",
       "      <th>max</th>\n",
       "      <td>79.000000</td>\n",
       "      <td>2016.000000</td>\n",
       "      <td>15.000000</td>\n",
       "      <td>1.000000</td>\n",
       "    </tr>\n",
       "  </tbody>\n",
       "</table>\n",
       "</div>"
      ],
      "text/plain": [
       "       shot_distance     game_year  shotLocationCluster     home_play\n",
       "count   30697.000000  30697.000000         30697.000000  30697.000000\n",
       "mean       13.437437   2006.098446             6.776688      0.487214\n",
       "std         9.374189      4.835462             4.442815      0.499845\n",
       "min         0.000000   1996.000000             0.000000      0.000000\n",
       "25%         5.000000   2002.000000             3.000000      0.000000\n",
       "50%        15.000000   2006.000000             6.000000      0.000000\n",
       "75%        21.000000   2010.000000            10.000000      1.000000\n",
       "max        79.000000   2016.000000            15.000000      1.000000"
      ]
     },
     "execution_count": 396,
     "metadata": {},
     "output_type": "execute_result"
    }
   ],
   "source": [
    "data_cl.describe()"
   ]
  },
  {
   "cell_type": "code",
   "execution_count": 397,
   "metadata": {},
   "outputs": [],
   "source": [
    "# One-hot encoding of categorical variables\n",
    "categorial_cols = ['action_type', 'playoffs', 'shot_zone_area','shot_zone_basic', 'opponent', 'shotLocationCluster']\n",
    "\n",
    "for cc in categorial_cols:\n",
    "    dummies = pd.get_dummies(data_cl[cc])\n",
    "    dummies = dummies.add_prefix(\"{}#\".format(cc))\n",
    "    data_cl.drop(cc, axis=1, inplace=True)\n",
    "    data_cl = data_cl.join(dummies)"
   ]
  },
  {
   "cell_type": "code",
   "execution_count": 398,
   "metadata": {
    "collapsed": true
   },
   "outputs": [],
   "source": [
    "# Train/validation split\n",
    "# Separate dataset for validation\n",
    "data_submit = data_cl[unknown_mask]\n",
    "# Separate dataset for training\n",
    "X = data_cl[~unknown_mask]\n",
    "Y = target[~unknown_mask]"
   ]
  },
  {
   "cell_type": "code",
   "execution_count": 399,
   "metadata": {},
   "outputs": [
    {
     "name": "stdout",
     "output_type": "stream",
     "text": [
      "Clean dataset shape: (30697, 84)\n"
     ]
    }
   ],
   "source": [
    "print('Clean dataset shape: {}'.format(data_cl.shape))"
   ]
  },
  {
   "cell_type": "code",
   "execution_count": 400,
   "metadata": {},
   "outputs": [
    {
     "name": "stdout",
     "output_type": "stream",
     "text": [
      "0.681441413395\n",
      "             precision    recall  f1-score   support\n",
      "\n",
      "        0.0       0.67      0.85      0.75     14232\n",
      "        1.0       0.72      0.47      0.57     11465\n",
      "\n",
      "avg / total       0.69      0.68      0.67     25697\n",
      "\n"
     ]
    }
   ],
   "source": [
    "regr = LogisticRegression(C=0.7, penalty='l1')\n",
    "predicted = cross_validation.cross_val_predict(regr, X, Y, cv=10)\n",
    "print(metrics.accuracy_score(Y, predicted))\n",
    "print(metrics.classification_report(Y, predicted))"
   ]
  },
  {
   "cell_type": "code",
   "execution_count": 401,
   "metadata": {
    "collapsed": true
   },
   "outputs": [],
   "source": [
    "data_submit = data_cl[unknown_mask]\n",
    "regr.fit(X, Y)\n",
    "preds = regr.predict_proba(data_submit)"
   ]
  },
  {
   "cell_type": "code",
   "execution_count": 403,
   "metadata": {
    "collapsed": true
   },
   "outputs": [],
   "source": [
    "submission = pd.DataFrame()\n",
    "submission[\"shot_id\"] = data_submit.index\n",
    "submission[\"shot_made_flag\"]= preds[:,1]\n",
    "\n",
    "submission.to_csv(\"../data/sub.csv\",index=False)"
   ]
  },
  {
   "cell_type": "code",
   "execution_count": 407,
   "metadata": {},
   "outputs": [
    {
     "data": {
      "image/png": "[encoded data removed]",
      "text/plain": [
       "<matplotlib.figure.Figure at 0x1c5374ae6a0>"
      ]
     },
     "metadata": {},
     "output_type": "display_data"
    }
   ],
   "source": [
    "from sklearn.model_selection import train_test_split\n",
    "\n",
    "X_train, X_test, y_train, y_test = train_test_split(X, Y, test_size = 0.2)\n",
    "    \n",
    "# calculate the fpr and tpr for all thresholds of the classification\n",
    "probs = regr.predict_proba(X_test)\n",
    "preds = probs[:,1]\n",
    "fpr, tpr, threshold = metrics.roc_curve(y_test, preds)\n",
    "roc_auc = metrics.auc(fpr, tpr)\n",
    "\n",
    "# method I: plt\n",
    "import matplotlib.pyplot as plt\n",
    "plt.title('Receiver Operating Characteristic')\n",
    "plt.plot(fpr, tpr, 'b', label = 'AUC = %0.2f' % roc_auc)\n",
    "plt.legend(loc = 'lower right')\n",
    "plt.plot([0, 1], [0, 1],'r--')\n",
    "plt.xlim([0, 1])\n",
    "plt.ylim([0, 1])\n",
    "plt.ylabel('True Positive Rate')\n",
    "plt.xlabel('False Positive Rate')\n",
    "plt.show()"
   ]
  },
  {
   "cell_type": "code",
   "execution_count": null,
   "metadata": {
    "collapsed": true
   },
   "outputs": [],
   "source": []
  }
 ],
 "metadata": {
  "kernelspec": {
   "display_name": "Python 3",
   "language": "python",
   "name": "python3"
  },
  "language_info": {
   "codemirror_mode": {
    "name": "ipython",
    "version": 3
   },
   "file_extension": ".py",
   "mimetype": "text/x-python",
   "name": "python",
   "nbconvert_exporter": "python",
   "pygments_lexer": "ipython3",
   "version": "3.6.3"
  }
 },
 "nbformat": 4,
 "nbformat_minor": 2
}
