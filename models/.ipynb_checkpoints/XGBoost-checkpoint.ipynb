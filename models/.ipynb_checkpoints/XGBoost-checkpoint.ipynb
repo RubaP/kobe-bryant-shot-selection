{
 "cells": [
  {
   "cell_type": "code",
   "execution_count": 1,
   "metadata": {},
   "outputs": [
    {
     "name": "stderr",
     "output_type": "stream",
     "text": [
      "C:\\Users\\user\\Anaconda3\\lib\\site-packages\\sklearn\\cross_validation.py:41: DeprecationWarning: This module was deprecated in version 0.18 in favor of the model_selection module into which all the refactored classes and functions are moved. Also note that the interface of the new CV iterators are different from that of this module. This module will be removed in 0.20.\n",
      "  \"This module will be removed in 0.20.\", DeprecationWarning)\n",
      "C:\\Users\\user\\Anaconda3\\lib\\site-packages\\statsmodels\\compat\\pandas.py:56: FutureWarning: The pandas.core.datetools module is deprecated and will be removed in a future version. Please use the pandas.tseries module instead.\n",
      "  from pandas.core import datetools\n"
     ]
    }
   ],
   "source": [
    "import numpy as np\n",
    "import pandas as pd\n",
    "from sklearn import metrics, cross_validation\n",
    "import statsmodels.api as sm\n",
    "from sklearn.model_selection import train_test_split\n",
    "import warnings\n",
    "warnings.filterwarnings('ignore', category=DeprecationWarning)\n",
    "from numpy import loadtxt\n",
    "import xgboost as xgb\n",
    "from sklearn.model_selection import train_test_split\n",
    "from sklearn.metrics import accuracy_score"
   ]
  },
  {
   "cell_type": "code",
   "execution_count": 2,
   "metadata": {},
   "outputs": [],
   "source": [
    "### Reading data\n",
    "data = pd.read_csv('../data/data.csv')\n",
    "data.set_index('shot_id', inplace=True)\n",
    "# The following should be explicitly made categorical as they are encoded using integers\n",
    "data[\"action_type\"] = data[\"action_type\"].astype('object')\n",
    "data[\"game_event_id\"] = data[\"game_event_id\"].astype('category')\n",
    "data[\"game_id\"] = data[\"game_id\"].astype('category')\n",
    "data[\"period\"] = data[\"period\"].astype('object')\n",
    "data[\"playoffs\"] = data[\"playoffs\"].astype('category')\n",
    "data[\"shot_made_flag\"] = data[\"shot_made_flag\"].astype('category')\n",
    "data[\"shot_type\"] = data[\"shot_type\"].astype('category')\n",
    "data[\"team_id\"] = data[\"team_id\"].astype('category')"
   ]
  },
  {
   "cell_type": "code",
   "execution_count": 3,
   "metadata": {},
   "outputs": [],
   "source": [
    "# data cleaning\n",
    "unknown_mask = data['shot_made_flag'].isnull()\n",
    "data_cl = data.copy()\n",
    "target = data_cl['shot_made_flag'].copy()\n",
    "data_cl.drop('team_id', inplace=True, axis=1)  # only 1 category\n",
    "data_cl.drop('lat', inplace=True, axis=1)  # correlated with loc_x\n",
    "data_cl.drop('lon', inplace=True, axis=1)  # correlated with loc_y\n",
    "data_cl.drop('game_id', inplace=True, axis=1)  # should not be dependent on game id\n",
    "data_cl.drop('game_event_id', inplace=True, axis=1)  # independent, unique for every shots in a game\n",
    "data_cl.drop('team_name', inplace=True, axis=1)  # always LA Lakers\n",
    "data_cl.drop('shot_made_flag', inplace=True, axis=1)  # target variables\n",
    "data_cl.drop('season', axis=1, inplace=True) # obtained a very good accuracy when season is dropped\n",
    "data_cl.drop('shot_zone_range', axis=1, inplace=True) # obtained accuracy improvement after dropping season\n",
    "data_cl.drop('combined_shot_type', axis=1, inplace=True) # obtained accuracy improvement after dropping game_month \n",
    "data_cl.drop('shot_type', axis=1, inplace=True) # obtained accuracy improvement after dropping combined_shot_type"
   ]
  },
  {
   "cell_type": "code",
   "execution_count": 4,
   "metadata": {},
   "outputs": [],
   "source": [
    "# Game date -- extract year\n",
    "data_cl['game_date'] = pd.to_datetime(data_cl['game_date'])\n",
    "data_cl['game_year'] = data_cl['game_date'].dt.year\n",
    "data_cl.drop('game_date', axis=1, inplace=True)"
   ]
  },
  {
   "cell_type": "code",
   "execution_count": 5,
   "metadata": {},
   "outputs": [],
   "source": [
    "#Extract time related features\n",
    "data_cl['time_remaining'] = 60 * data_cl['minutes_remaining'] + data_cl['seconds_remaining']\n",
    "data_cl['last_3_sec'] = data_cl['time_remaining'] < 3\n",
    "data_cl['last_5_sec'] = data_cl['time_remaining'] < 5\n",
    "data_cl['last_10_sec'] = data_cl['time_remaining'] < 10\n",
    "\n",
    "# drop redundant features\n",
    "data_cl.drop('minutes_remaining', axis=1, inplace=True)\n",
    "data_cl.drop('seconds_remaining', axis=1, inplace=True)\n",
    "data_cl.drop('time_remaining', axis=1, inplace=True)"
   ]
  },
  {
   "cell_type": "code",
   "execution_count": 6,
   "metadata": {},
   "outputs": [],
   "source": [
    "from sklearn import mixture\n",
    "gaussianMixtureModel1 = mixture.GMM(n_components= 16, covariance_type='full', params='wmc', init_params='wmc',\n",
    "                                    random_state=1, n_init=3,  verbose=0)\n",
    "gaussianMixtureModel1.fit(data_cl.ix[:,['loc_x','loc_y']])\n",
    "data_cl['shotLocationCluster'] = gaussianMixtureModel1.predict(data_cl.ix[:,['loc_x','loc_y']])\n",
    "\n",
    "data_cl.drop('loc_x', axis=1, inplace=True)\n",
    "data_cl.drop('loc_y', axis=1, inplace=True)"
   ]
  },
  {
   "cell_type": "code",
   "execution_count": 7,
   "metadata": {},
   "outputs": [],
   "source": [
    "## Matchup -- (away/home)\n",
    "data_cl['home_play'] = data_cl['matchup'].str.contains('vs').astype('int')\n",
    "data_cl.drop('matchup', axis=1, inplace=True)"
   ]
  },
  {
   "cell_type": "code",
   "execution_count": 8,
   "metadata": {},
   "outputs": [],
   "source": [
    "data_cl['first_period'] = data_cl['period'] == 1\n",
    "data_cl['second_period'] = data_cl['period'] == 2\n",
    "data_cl['third_period'] = data_cl['period'] == 3\n",
    "data_cl['fourth_period'] = data_cl['period'] == 4\n",
    "data_cl['final_period'] = data_cl['period'] > 4\n",
    "data_cl.drop('period', axis=1, inplace=True)"
   ]
  },
  {
   "cell_type": "code",
   "execution_count": 9,
   "metadata": {},
   "outputs": [],
   "source": [
    "# Replace 20 least common action types with value 'Other'\n",
    "rare_action_types = data_cl['action_type'].value_counts().sort_values().index.values[:20]\n",
    "data_cl.loc[data_cl['action_type'].isin(rare_action_types), 'action_type'] = 'Other'"
   ]
  },
  {
   "cell_type": "code",
   "execution_count": 10,
   "metadata": {},
   "outputs": [],
   "source": [
    "# Replace  least common action types with value 'rare'\n",
    "rare_opponent = data_cl['opponent'].value_counts().sort_values().index.values[:30]\n",
    "data_cl.loc[data_cl['opponent'].isin(rare_opponent), 'opponent'] = 'rare'"
   ]
  },
  {
   "cell_type": "code",
   "execution_count": 11,
   "metadata": {},
   "outputs": [],
   "source": [
    "# One-hot encoding of categorical variables\n",
    "categorial_cols = ['action_type','playoffs','shot_zone_area','shot_zone_basic', 'opponent', 'shotLocationCluster']\n",
    "\n",
    "for cc in categorial_cols:\n",
    "    dummies = pd.get_dummies(data_cl[cc])\n",
    "    dummies = dummies.add_prefix(\"{}#\".format(cc))\n",
    "    data_cl.drop(cc, axis=1, inplace=True)\n",
    "    data_cl = data_cl.join(dummies)"
   ]
  },
  {
   "cell_type": "code",
   "execution_count": 12,
   "metadata": {},
   "outputs": [],
   "source": [
    "# Train/validation split\n",
    "# Separate dataset for validation\n",
    "data_submit = data_cl[unknown_mask]\n",
    "# Separate dataset for training\n",
    "X = data_cl[~unknown_mask]\n",
    "Y = target[~unknown_mask]"
   ]
  },
  {
   "cell_type": "code",
   "execution_count": 13,
   "metadata": {},
   "outputs": [],
   "source": [
    "# split data into train and test sets\n",
    "seed = 7\n",
    "test_size = 0.20\n",
    "X_train, X_test, y_train, y_test = train_test_split(X, Y, test_size=test_size, random_state=seed)"
   ]
  },
  {
   "cell_type": "code",
   "execution_count": 14,
   "metadata": {
    "scrolled": true
   },
   "outputs": [
    {
     "data": {
      "text/plain": [
       "XGBClassifier(base_score=0.5, booster='gbtree', colsample_bylevel=1,\n",
       "       colsample_bytree=1, gamma=0, learning_rate=0.1, max_delta_step=0,\n",
       "       max_depth=6, min_child_weight=1, missing=None, n_estimators=110,\n",
       "       n_jobs=1, nthread=None, objective='binary:logistic', random_state=0,\n",
       "       reg_alpha=0, reg_lambda=1, scale_pos_weight=1, seed=None,\n",
       "       silent=True, subsample=1)"
      ]
     },
     "execution_count": 14,
     "metadata": {},
     "output_type": "execute_result"
    }
   ],
   "source": [
    "model = xgb.XGBClassifier(max_depth=6, n_estimators=110)\n",
    "model.fit(X_train, y_train)"
   ]
  },
  {
   "cell_type": "code",
   "execution_count": 15,
   "metadata": {},
   "outputs": [],
   "source": [
    "y_pred = model.predict(X_test)\n",
    "predictions = [round(value) for value in y_pred]"
   ]
  },
  {
   "cell_type": "code",
   "execution_count": 16,
   "metadata": {},
   "outputs": [
    {
     "name": "stdout",
     "output_type": "stream",
     "text": [
      "Accuracy: 69.94%\n"
     ]
    }
   ],
   "source": [
    "# evaluate predictions\n",
    "accuracy = accuracy_score(y_test, predictions)\n",
    "print(\"Accuracy: %.2f%%\" % (accuracy * 100.0))"
   ]
  },
  {
   "cell_type": "code",
   "execution_count": 18,
   "metadata": {},
   "outputs": [
    {
     "data": {
      "image/png": "[encoded data removed]",
      "text/plain": [
       "<Figure size 432x288 with 1 Axes>"
      ]
     },
     "metadata": {},
     "output_type": "display_data"
    }
   ],
   "source": [
    "fpr, tpr, threshold = metrics.roc_curve(y_test, predictions)\n",
    "roc_auc = metrics.auc(fpr, tpr)\n",
    "\n",
    "# method I: plt\n",
    "import matplotlib.pyplot as plt\n",
    "plt.title('XG Boost')\n",
    "plt.plot(fpr, tpr, 'b', label = 'AUC = %0.2f' % roc_auc)\n",
    "plt.legend(loc = 'lower right')\n",
    "plt.plot([0, 1], [0, 1],'r--')\n",
    "plt.xlim([0, 1])\n",
    "plt.ylim([0, 1])\n",
    "plt.ylabel('True Positive Rate')\n",
    "plt.xlabel('False Positive Rate')\n",
    "plt.show()"
   ]
  },
  {
   "cell_type": "code",
   "execution_count": 37,
   "metadata": {},
   "outputs": [],
   "source": [
    "sub = model.predict_proba(data_submit)\n",
    "sub = sub[:,1:2]"
   ]
  },
  {
   "cell_type": "code",
   "execution_count": 39,
   "metadata": {},
   "outputs": [
    {
     "name": "stderr",
     "output_type": "stream",
     "text": [
      "C:\\Users\\user\\Anaconda3\\lib\\site-packages\\ipykernel_launcher.py:1: SettingWithCopyWarning: \n",
      "A value is trying to be set on a copy of a slice from a DataFrame.\n",
      "Try using .loc[row_indexer,col_indexer] = value instead\n",
      "\n",
      "See the caveats in the documentation: http://pandas.pydata.org/pandas-docs/stable/indexing.html#indexing-view-versus-copy\n",
      "  \"\"\"Entry point for launching an IPython kernel.\n"
     ]
    }
   ],
   "source": [
    "data_submit['shot_made_flag'] = sub"
   ]
  },
  {
   "cell_type": "code",
   "execution_count": 42,
   "metadata": {},
   "outputs": [],
   "source": [
    "data_submit.to_csv('../data/sub.csv', columns=['shot_made_flag'])"
   ]
  },
  {
   "cell_type": "code",
   "execution_count": 47,
   "metadata": {},
   "outputs": [
    {
     "data": {
      "text/plain": [
       "array([0.13821395, 0.23792994, 0.01136005, 0.00126223, 0.01262228,\n",
       "       0.06500474, 0.03565793, 0.02461344, 0.03281792, 0.02776901,\n",
       "       0.00820448, 0.00820448, 0.00031556, 0.01325339, 0.00410224,\n",
       "       0.00473335, 0.00063111, 0.00599558, 0.00031556, 0.00820448,\n",
       "       0.0022089 , 0.0066267 , 0.00410224, 0.00473335, 0.00536447,\n",
       "       0.00189334, 0.        , 0.00820448, 0.00725781, 0.        ,\n",
       "       0.01072894, 0.01136005, 0.00094667, 0.01009782, 0.        ,\n",
       "       0.00536447, 0.00599558, 0.00536447, 0.00410224, 0.00378668,\n",
       "       0.0044178 , 0.00946671, 0.        , 0.01388451, 0.00094667,\n",
       "       0.00820448, 0.00410224, 0.00189334, 0.00504891, 0.02145787,\n",
       "       0.        , 0.        , 0.01167561, 0.00568003, 0.00788892,\n",
       "       0.00599558, 0.00568003, 0.00126223, 0.        , 0.00820448,\n",
       "       0.00126223, 0.00504891, 0.        , 0.        , 0.01420006,\n",
       "       0.00757337, 0.01293784, 0.01451562, 0.02177343, 0.0044178 ,\n",
       "       0.00378668, 0.00504891, 0.00473335, 0.0022089 , 0.00725781,\n",
       "       0.00568003, 0.00031556, 0.00315557, 0.00852004, 0.        ,\n",
       "       0.00378668, 0.00536447, 0.00378668, 0.00946671], dtype=float32)"
      ]
     },
     "execution_count": 47,
     "metadata": {},
     "output_type": "execute_result"
    }
   ],
   "source": [
    "model.feature_importances_"
   ]
  },
  {
   "cell_type": "code",
   "execution_count": 48,
   "metadata": {},
   "outputs": [
    {
     "data": {
      "text/plain": [
       "Index(['shot_distance', 'game_year', 'last_3_sec', 'last_5_sec', 'last_10_sec',\n",
       "       'home_play', 'first_period', 'second_period', 'third_period',\n",
       "       'fourth_period', 'final_period', 'action_type#Alley Oop Dunk Shot',\n",
       "       'action_type#Alley Oop Layup shot', 'action_type#Driving Dunk Shot',\n",
       "       'action_type#Driving Finger Roll Layup Shot',\n",
       "       'action_type#Driving Finger Roll Shot', 'action_type#Driving Jump shot',\n",
       "       'action_type#Driving Layup Shot',\n",
       "       'action_type#Driving Reverse Layup Shot',\n",
       "       'action_type#Driving Slam Dunk Shot', 'action_type#Dunk Shot',\n",
       "       'action_type#Fadeaway Bank shot', 'action_type#Fadeaway Jump Shot',\n",
       "       'action_type#Finger Roll Layup Shot', 'action_type#Finger Roll Shot',\n",
       "       'action_type#Floating Jump shot', 'action_type#Follow Up Dunk Shot',\n",
       "       'action_type#Hook Shot', 'action_type#Jump Bank Shot',\n",
       "       'action_type#Jump Hook Shot', 'action_type#Jump Shot',\n",
       "       'action_type#Layup Shot', 'action_type#Other',\n",
       "       'action_type#Pullup Jump shot', 'action_type#Putback Layup Shot',\n",
       "       'action_type#Reverse Dunk Shot', 'action_type#Reverse Layup Shot',\n",
       "       'action_type#Reverse Slam Dunk Shot', 'action_type#Running Bank shot',\n",
       "       'action_type#Running Dunk Shot', 'action_type#Running Hook Shot',\n",
       "       'action_type#Running Jump Shot', 'action_type#Running Layup Shot',\n",
       "       'action_type#Slam Dunk Shot', 'action_type#Step Back Jump shot',\n",
       "       'action_type#Tip Shot', 'action_type#Turnaround Bank shot',\n",
       "       'action_type#Turnaround Fadeaway shot',\n",
       "       'action_type#Turnaround Jump Shot', 'playoffs#0', 'playoffs#1',\n",
       "       'shot_zone_area#Back Court(BC)', 'shot_zone_area#Center(C)',\n",
       "       'shot_zone_area#Left Side Center(LC)', 'shot_zone_area#Left Side(L)',\n",
       "       'shot_zone_area#Right Side Center(RC)', 'shot_zone_area#Right Side(R)',\n",
       "       'shot_zone_basic#Above the Break 3', 'shot_zone_basic#Backcourt',\n",
       "       'shot_zone_basic#In The Paint (Non-RA)',\n",
       "       'shot_zone_basic#Left Corner 3', 'shot_zone_basic#Mid-Range',\n",
       "       'shot_zone_basic#Restricted Area', 'shot_zone_basic#Right Corner 3',\n",
       "       'opponent#HOU', 'opponent#PHX', 'opponent#SAS', 'opponent#rare',\n",
       "       'shotLocationCluster#0', 'shotLocationCluster#1',\n",
       "       'shotLocationCluster#2', 'shotLocationCluster#3',\n",
       "       'shotLocationCluster#4', 'shotLocationCluster#5',\n",
       "       'shotLocationCluster#6', 'shotLocationCluster#7',\n",
       "       'shotLocationCluster#8', 'shotLocationCluster#9',\n",
       "       'shotLocationCluster#10', 'shotLocationCluster#11',\n",
       "       'shotLocationCluster#12', 'shotLocationCluster#13',\n",
       "       'shotLocationCluster#14', 'shotLocationCluster#15'],\n",
       "      dtype='object')"
      ]
     },
     "execution_count": 48,
     "metadata": {},
     "output_type": "execute_result"
    }
   ],
   "source": [
    "X_train.columns"
   ]
  },
  {
   "cell_type": "code",
   "execution_count": null,
   "metadata": {},
   "outputs": [],
   "source": []
  }
 ],
 "metadata": {
  "kernelspec": {
   "display_name": "Python 3",
   "language": "python",
   "name": "python3"
  },
  "language_info": {
   "codemirror_mode": {
    "name": "ipython",
    "version": 3
   },
   "file_extension": ".py",
   "mimetype": "text/x-python",
   "name": "python",
   "nbconvert_exporter": "python",
   "pygments_lexer": "ipython3",
   "version": "3.6.4"
  }
 },
 "nbformat": 4,
 "nbformat_minor": 2
}
