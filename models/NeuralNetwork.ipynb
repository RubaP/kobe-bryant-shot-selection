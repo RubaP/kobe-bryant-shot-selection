{
 "cells": [
  {
   "cell_type": "code",
   "execution_count": 1,
   "metadata": {},
   "outputs": [
    {
     "name": "stderr",
     "output_type": "stream",
     "text": [
      "C:\\Users\\user\\Anaconda3\\lib\\site-packages\\sklearn\\cross_validation.py:41: DeprecationWarning: This module was deprecated in version 0.18 in favor of the model_selection module into which all the refactored classes and functions are moved. Also note that the interface of the new CV iterators are different from that of this module. This module will be removed in 0.20.\n",
      "  \"This module will be removed in 0.20.\", DeprecationWarning)\n",
      "C:\\Users\\user\\Anaconda3\\lib\\site-packages\\statsmodels\\compat\\pandas.py:56: FutureWarning: The pandas.core.datetools module is deprecated and will be removed in a future version. Please use the pandas.tseries module instead.\n",
      "  from pandas.core import datetools\n"
     ]
    }
   ],
   "source": [
    "import numpy as np\n",
    "import pandas as pd\n",
    "from sklearn import metrics, cross_validation\n",
    "import statsmodels.api as sm\n",
    "from sklearn.model_selection import train_test_split\n",
    "import warnings\n",
    "warnings.filterwarnings('ignore', category=DeprecationWarning)\n",
    "from numpy import loadtxt\n",
    "from sklearn.model_selection import train_test_split\n",
    "from sklearn.metrics import accuracy_score"
   ]
  },
  {
   "cell_type": "code",
   "execution_count": 4,
   "metadata": {},
   "outputs": [],
   "source": [
    "### Reading data\n",
    "data = pd.read_csv('../data/data.csv')\n",
    "data.set_index('shot_id', inplace=True)\n",
    "# The following should be explicitly made categorical as they are encoded using integers\n",
    "data[\"action_type\"] = data[\"action_type\"].astype('object')\n",
    "data[\"game_event_id\"] = data[\"game_event_id\"].astype('category')\n",
    "data[\"game_id\"] = data[\"game_id\"].astype('category')\n",
    "data[\"period\"] = data[\"period\"].astype('object')\n",
    "data[\"playoffs\"] = data[\"playoffs\"].astype('category')\n",
    "data[\"shot_made_flag\"] = data[\"shot_made_flag\"].astype('category')\n",
    "data[\"shot_type\"] = data[\"shot_type\"].astype('category')\n",
    "data[\"team_id\"] = data[\"team_id\"].astype('category')"
   ]
  },
  {
   "cell_type": "code",
   "execution_count": 5,
   "metadata": {},
   "outputs": [],
   "source": [
    "# data cleaning\n",
    "unknown_mask = data['shot_made_flag'].isnull()\n",
    "data_cl = data.copy()\n",
    "target = data_cl['shot_made_flag'].copy()\n",
    "data_cl.drop('team_id', inplace=True, axis=1)  # only 1 category\n",
    "data_cl.drop('lat', inplace=True, axis=1)  # correlated with loc_x\n",
    "data_cl.drop('lon', inplace=True, axis=1)  # correlated with loc_y\n",
    "data_cl.drop('game_id', inplace=True, axis=1)  # should not be dependent on game id\n",
    "data_cl.drop('game_event_id', inplace=True, axis=1)  # independent, unique for every shots in a game\n",
    "data_cl.drop('team_name', inplace=True, axis=1)  # always LA Lakers\n",
    "data_cl.drop('shot_made_flag', inplace=True, axis=1)  # target variables\n",
    "data_cl.drop('season', axis=1, inplace=True) # obtained a very good accuracy when season is dropped\n",
    "data_cl.drop('shot_zone_range', axis=1, inplace=True) # obtained accuracy improvement after dropping season\n",
    "data_cl.drop('combined_shot_type', axis=1, inplace=True) # obtained accuracy improvement after dropping game_month \n",
    "data_cl.drop('shot_type', axis=1, inplace=True) # obtained accuracy improvement after dropping combined_shot_type"
   ]
  },
  {
   "cell_type": "code",
   "execution_count": 6,
   "metadata": {},
   "outputs": [],
   "source": [
    "# Game date -- extract year\n",
    "data_cl['game_date'] = pd.to_datetime(data_cl['game_date'])\n",
    "data_cl['game_year'] = data_cl['game_date'].dt.year\n",
    "data_cl.drop('game_date', axis=1, inplace=True)"
   ]
  },
  {
   "cell_type": "code",
   "execution_count": 7,
   "metadata": {},
   "outputs": [],
   "source": [
    "#Extract time related features\n",
    "data_cl['time_remaining'] = 60 * data_cl['minutes_remaining'] + data_cl['seconds_remaining']\n",
    "data_cl['last_3_sec'] = data_cl['time_remaining'] < 3\n",
    "data_cl['last_5_sec'] = data_cl['time_remaining'] < 5\n",
    "data_cl['last_10_sec'] = data_cl['time_remaining'] < 10\n",
    "\n",
    "# drop redundant features\n",
    "data_cl.drop('minutes_remaining', axis=1, inplace=True)\n",
    "data_cl.drop('seconds_remaining', axis=1, inplace=True)\n",
    "data_cl.drop('time_remaining', axis=1, inplace=True)"
   ]
  },
  {
   "cell_type": "code",
   "execution_count": 8,
   "metadata": {},
   "outputs": [],
   "source": [
    "from sklearn import mixture\n",
    "gaussianMixtureModel1 = mixture.GMM(n_components= 16, covariance_type='full', params='wmc', init_params='wmc',\n",
    "                                    random_state=1, n_init=3,  verbose=0)\n",
    "gaussianMixtureModel1.fit(data_cl.ix[:,['loc_x','loc_y']])\n",
    "data_cl['shotLocationCluster'] = gaussianMixtureModel1.predict(data_cl.ix[:,['loc_x','loc_y']])\n",
    "\n",
    "data_cl.drop('loc_x', axis=1, inplace=True)\n",
    "data_cl.drop('loc_y', axis=1, inplace=True)"
   ]
  },
  {
   "cell_type": "code",
   "execution_count": 9,
   "metadata": {},
   "outputs": [],
   "source": [
    "## Matchup -- (away/home)\n",
    "data_cl['home_play'] = data_cl['matchup'].str.contains('vs').astype('int')\n",
    "data_cl.drop('matchup', axis=1, inplace=True)"
   ]
  },
  {
   "cell_type": "code",
   "execution_count": 10,
   "metadata": {},
   "outputs": [],
   "source": [
    "data_cl['first_period'] = data_cl['period'] == 1\n",
    "data_cl['second_period'] = data_cl['period'] == 2\n",
    "data_cl['third_period'] = data_cl['period'] == 3\n",
    "data_cl['fourth_period'] = data_cl['period'] == 4\n",
    "data_cl['final_period'] = data_cl['period'] > 4\n",
    "data_cl.drop('period', axis=1, inplace=True)"
   ]
  },
  {
   "cell_type": "code",
   "execution_count": 11,
   "metadata": {},
   "outputs": [],
   "source": [
    "# Replace 20 least common action types with value 'Other'\n",
    "rare_action_types = data_cl['action_type'].value_counts().sort_values().index.values[:20]\n",
    "data_cl.loc[data_cl['action_type'].isin(rare_action_types), 'action_type'] = 'Other'"
   ]
  },
  {
   "cell_type": "code",
   "execution_count": 12,
   "metadata": {},
   "outputs": [],
   "source": [
    "# Replace  least common action types with value 'rare'\n",
    "rare_opponent = data_cl['opponent'].value_counts().sort_values().index.values[:30]\n",
    "data_cl.loc[data_cl['opponent'].isin(rare_opponent), 'opponent'] = 'rare'"
   ]
  },
  {
   "cell_type": "code",
   "execution_count": 13,
   "metadata": {},
   "outputs": [],
   "source": [
    "# One-hot encoding of categorical variables\n",
    "categorial_cols = ['action_type','playoffs','shot_zone_area','shot_zone_basic', 'opponent', 'shotLocationCluster']\n",
    "\n",
    "for cc in categorial_cols:\n",
    "    dummies = pd.get_dummies(data_cl[cc])\n",
    "    dummies = dummies.add_prefix(\"{}#\".format(cc))\n",
    "    data_cl.drop(cc, axis=1, inplace=True)\n",
    "    data_cl = data_cl.join(dummies)"
   ]
  },
  {
   "cell_type": "code",
   "execution_count": 41,
   "metadata": {},
   "outputs": [],
   "source": [
    "# Train/validation split\n",
    "# Separate dataset for validation\n",
    "data_submit = data_cl[unknown_mask]\n",
    "# Separate dataset for training\n",
    "X = data_cl[~unknown_mask]\n",
    "Y = target[~unknown_mask]"
   ]
  },
  {
   "cell_type": "code",
   "execution_count": 43,
   "metadata": {},
   "outputs": [],
   "source": [
    "from keras.utils import to_categorical\n",
    "Y = to_categorical(Y, num_classes=2)"
   ]
  },
  {
   "cell_type": "code",
   "execution_count": 44,
   "metadata": {},
   "outputs": [],
   "source": [
    "# split data into train and test sets\n",
    "seed = 7\n",
    "test_size = 0.20\n",
    "X_train, X_test, y_train, y_test = train_test_split(X, Y, test_size=test_size, random_state=seed)"
   ]
  },
  {
   "cell_type": "code",
   "execution_count": 71,
   "metadata": {},
   "outputs": [],
   "source": [
    "from sklearn.neural_network import MLPClassifier"
   ]
  },
  {
   "cell_type": "code",
   "execution_count": 333,
   "metadata": {},
   "outputs": [],
   "source": [
    "clf = MLPClassifier(solver='adam', alpha=0.00001, hidden_layer_sizes=(40,30,30,30), random_state=1, verbose=2)"
   ]
  },
  {
   "cell_type": "code",
   "execution_count": 334,
   "metadata": {},
   "outputs": [
    {
     "name": "stdout",
     "output_type": "stream",
     "text": [
      "Iteration 1, loss = 4.93831192\n",
      "Iteration 2, loss = 1.36708307\n",
      "Iteration 3, loss = 1.35468649\n",
      "Iteration 4, loss = 1.34778110\n",
      "Iteration 5, loss = 1.34726690\n",
      "Iteration 6, loss = 1.33693084\n",
      "Iteration 7, loss = 1.34134663\n",
      "Iteration 8, loss = 1.34818830\n",
      "Iteration 9, loss = 1.33116142\n",
      "Iteration 10, loss = 1.32216289\n",
      "Iteration 11, loss = 1.30491698\n",
      "Iteration 12, loss = 1.31196655\n",
      "Iteration 13, loss = 1.30084511\n",
      "Iteration 14, loss = 1.29279082\n",
      "Iteration 15, loss = 1.28868912\n",
      "Iteration 16, loss = 1.29962745\n",
      "Iteration 17, loss = 1.28318847\n",
      "Iteration 18, loss = 1.29003863\n",
      "Iteration 19, loss = 1.29155660\n",
      "Iteration 20, loss = 1.28081326\n",
      "Iteration 21, loss = 1.27002668\n",
      "Iteration 22, loss = 1.27119850\n",
      "Iteration 23, loss = 1.26954136\n",
      "Iteration 24, loss = 1.26374987\n",
      "Iteration 25, loss = 1.26669767\n",
      "Iteration 26, loss = 1.27368509\n",
      "Iteration 27, loss = 1.25470034\n",
      "Iteration 28, loss = 1.24981050\n",
      "Iteration 29, loss = 1.26064779\n",
      "Iteration 30, loss = 1.24685485\n",
      "Iteration 31, loss = 1.25468922\n",
      "Iteration 32, loss = 1.24262870\n",
      "Iteration 33, loss = 1.25036200\n",
      "Iteration 34, loss = 1.23708607\n",
      "Iteration 35, loss = 1.25033245\n",
      "Iteration 36, loss = 1.24872453\n",
      "Iteration 37, loss = 1.24970283\n",
      "Training loss did not improve more than tol=0.000100 for two consecutive epochs. Stopping.\n"
     ]
    },
    {
     "data": {
      "text/plain": [
       "MLPClassifier(activation='relu', alpha=1e-05, batch_size='auto', beta_1=0.9,\n",
       "       beta_2=0.999, early_stopping=False, epsilon=1e-08,\n",
       "       hidden_layer_sizes=(40, 30, 30, 30), learning_rate='constant',\n",
       "       learning_rate_init=0.001, max_iter=200, momentum=0.9,\n",
       "       nesterovs_momentum=True, power_t=0.5, random_state=1, shuffle=True,\n",
       "       solver='adam', tol=0.0001, validation_fraction=0.1, verbose=2,\n",
       "       warm_start=False)"
      ]
     },
     "execution_count": 334,
     "metadata": {},
     "output_type": "execute_result"
    }
   ],
   "source": [
    "clf.fit(X_train, y_train) "
   ]
  },
  {
   "cell_type": "code",
   "execution_count": 335,
   "metadata": {},
   "outputs": [],
   "source": [
    "s = clf.predict_proba(X_test)\n",
    "pred = [np.argmax(x) for x in s]\n",
    "test = [np.argmax(x) for x in y_test]"
   ]
  },
  {
   "cell_type": "code",
   "execution_count": 336,
   "metadata": {},
   "outputs": [
    {
     "name": "stdout",
     "output_type": "stream",
     "text": [
      "0.6943579766536965\n",
      "             precision    recall  f1-score   support\n",
      "\n",
      "          0       0.69      0.86      0.76      2940\n",
      "          1       0.71      0.48      0.57      2200\n",
      "\n",
      "avg / total       0.70      0.69      0.68      5140\n",
      "\n"
     ]
    }
   ],
   "source": [
    "print(metrics.accuracy_score(test, pred))\n",
    "print(metrics.classification_report(test, pred))"
   ]
  },
  {
   "cell_type": "code",
   "execution_count": 339,
   "metadata": {},
   "outputs": [
    {
     "data": {
      "image/png": "[encoded data removed]",
      "text/plain": [
       "<Figure size 432x288 with 1 Axes>"
      ]
     },
     "metadata": {},
     "output_type": "display_data"
    }
   ],
   "source": [
    "fpr, tpr, threshold = metrics.roc_curve(test, pred)\n",
    "roc_auc = metrics.auc(fpr, tpr)\n",
    "\n",
    "# method I: plt\n",
    "import matplotlib.pyplot as plt\n",
    "plt.title('Multi layer perceptron')\n",
    "plt.plot(fpr, tpr, 'b', label = 'AUC = %0.2f' % roc_auc)\n",
    "plt.legend(loc = 'lower right')\n",
    "plt.plot([0, 1], [0, 1],'r--')\n",
    "plt.xlim([0, 1])\n",
    "plt.ylim([0, 1])\n",
    "plt.ylabel('True Positive Rate')\n",
    "plt.xlabel('False Positive Rate')\n",
    "plt.show()"
   ]
  },
  {
   "cell_type": "code",
   "execution_count": null,
   "metadata": {},
   "outputs": [],
   "source": []
  }
 ],
 "metadata": {
  "kernelspec": {
   "display_name": "Python 3",
   "language": "python",
   "name": "python3"
  },
  "language_info": {
   "codemirror_mode": {
    "name": "ipython",
    "version": 3
   },
   "file_extension": ".py",
   "mimetype": "text/x-python",
   "name": "python",
   "nbconvert_exporter": "python",
   "pygments_lexer": "ipython3",
   "version": "3.6.4"
  }
 },
 "nbformat": 4,
 "nbformat_minor": 2
}
